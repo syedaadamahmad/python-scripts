{
 "cells": [
  {
   "cell_type": "code",
   "execution_count": null,
   "metadata": {},
   "outputs": [],
   "source": [
    "import os\n",
    "\n",
    "def rename_files(folder_path, substrings_to_remove):\n",
    "    for filename in os.listdir(folder_path):\n",
    "        if filename.startswith(\"XC\"):\n",
    "            # Remove specified substrings from the filename\n",
    "            new_filename = filename\n",
    "            for substring in substrings_to_remove:\n",
    "                new_filename = new_filename.replace(substring, \"\")\n",
    "            \n",
    "            # Rename the file\n",
    "            old_path = os.path.join(folder_path, filename)\n",
    "            new_path = os.path.join(folder_path, new_filename)\n",
    "            os.rename(old_path, new_path)\n",
    "            print(f\"Renamed {filename} to {new_filename}\")\n",
    "\n",
    "folder_path = r\"C:\\Users\\newbr\\OneDrive\\Desktop\\B_model_87\\H_list_87_desktop\\IndianWhite-eye\"\n",
    "substrings_to_remove = [\" siamensis\"]\n",
    "rename_files(folder_path, substrings_to_remove)"
   ]
  }
 ],
 "metadata": {
  "kernelspec": {
   "display_name": "base",
   "language": "python",
   "name": "python3"
  },
  "language_info": {
   "codemirror_mode": {
    "name": "ipython",
    "version": 3
   },
   "file_extension": ".py",
   "mimetype": "text/x-python",
   "name": "python",
   "nbconvert_exporter": "python",
   "pygments_lexer": "ipython3",
   "version": "3.10.9"
  }
 },
 "nbformat": 4,
 "nbformat_minor": 2
}
